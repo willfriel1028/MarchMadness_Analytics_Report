{
 "cells": [
  {
   "cell_type": "code",
   "execution_count": 1,
   "id": "2680d2f4-8fa0-4097-ac21-e686034db932",
   "metadata": {
    "tags": []
   },
   "outputs": [],
   "source": [
    "import pandas as pd"
   ]
  },
  {
   "cell_type": "code",
   "execution_count": 2,
   "id": "602fb3a9-9555-4265-9da1-1d7f449b82db",
   "metadata": {
    "tags": []
   },
   "outputs": [],
   "source": [
    "df = pd.read_csv(\"data/march_teams.csv\")"
   ]
  },
  {
   "cell_type": "code",
   "execution_count": 5,
   "id": "3886425b-dcd6-4598-b28b-03fcc93b2423",
   "metadata": {
    "tags": []
   },
   "outputs": [],
   "source": [
    "df1 = df[df[\"Post-Season Tournament\"] == \"March Madness\"]"
   ]
  },
  {
   "cell_type": "code",
   "execution_count": 9,
   "id": "3d07473d-9a22-410c-9f82-c6f94b6ae1a3",
   "metadata": {
    "tags": []
   },
   "outputs": [],
   "source": [
    "df2 = df1[([\"Season\", \"Team Name\", \"Seed\", \"Region\"])]"
   ]
  },
  {
   "cell_type": "code",
   "execution_count": 12,
   "id": "ea19d425-437c-4fc5-8681-c1da5cf48fab",
   "metadata": {
    "tags": []
   },
   "outputs": [],
   "source": [
    "df3 = df2[df2[\"Season\"] > 2012]"
   ]
  },
  {
   "cell_type": "code",
   "execution_count": 14,
   "id": "b94bbf4e-a99b-4b58-ba6e-6eeb54229516",
   "metadata": {
    "tags": []
   },
   "outputs": [
    {
     "name": "stderr",
     "output_type": "stream",
     "text": [
      "/var/folders/gk/z5vk9c8d7nbgnnqmn_5fy9hc0000gp/T/ipykernel_86991/3237857374.py:1: SettingWithCopyWarning: \n",
      "A value is trying to be set on a copy of a slice from a DataFrame.\n",
      "Try using .loc[row_indexer,col_indexer] = value instead\n",
      "\n",
      "See the caveats in the documentation: https://pandas.pydata.org/pandas-docs/stable/user_guide/indexing.html#returning-a-view-versus-a-copy\n",
      "  df3[\"Year\"] = df3[\"Season\"]\n",
      "/var/folders/gk/z5vk9c8d7nbgnnqmn_5fy9hc0000gp/T/ipykernel_86991/3237857374.py:2: SettingWithCopyWarning: \n",
      "A value is trying to be set on a copy of a slice from a DataFrame.\n",
      "Try using .loc[row_indexer,col_indexer] = value instead\n",
      "\n",
      "See the caveats in the documentation: https://pandas.pydata.org/pandas-docs/stable/user_guide/indexing.html#returning-a-view-versus-a-copy\n",
      "  df3[\"Team\"] = df3[\"Team Name\"]\n"
     ]
    }
   ],
   "source": [
    "df3[\"Year\"] = df3[\"Season\"]\n",
    "df3[\"Team\"] = df3[\"Team Name\"]"
   ]
  },
  {
   "cell_type": "code",
   "execution_count": 18,
   "id": "2cc9f08f-e9c1-44ab-bce3-89296f23bc8d",
   "metadata": {
    "tags": []
   },
   "outputs": [
    {
     "data": {
      "text/html": [
       "<div>\n",
       "<style scoped>\n",
       "    .dataframe tbody tr th:only-of-type {\n",
       "        vertical-align: middle;\n",
       "    }\n",
       "\n",
       "    .dataframe tbody tr th {\n",
       "        vertical-align: top;\n",
       "    }\n",
       "\n",
       "    .dataframe thead th {\n",
       "        text-align: right;\n",
       "    }\n",
       "</style>\n",
       "<table border=\"1\" class=\"dataframe\">\n",
       "  <thead>\n",
       "    <tr style=\"text-align: right;\">\n",
       "      <th></th>\n",
       "      <th>Seed</th>\n",
       "      <th>Region</th>\n",
       "      <th>Year</th>\n",
       "      <th>Team</th>\n",
       "    </tr>\n",
       "  </thead>\n",
       "  <tbody>\n",
       "    <tr>\n",
       "      <th>0</th>\n",
       "      <td>1</td>\n",
       "      <td>South</td>\n",
       "      <td>2025</td>\n",
       "      <td>Auburn</td>\n",
       "    </tr>\n",
       "    <tr>\n",
       "      <th>1</th>\n",
       "      <td>16</td>\n",
       "      <td>South</td>\n",
       "      <td>2025</td>\n",
       "      <td>Alabama State</td>\n",
       "    </tr>\n",
       "    <tr>\n",
       "      <th>2</th>\n",
       "      <td>16</td>\n",
       "      <td>South</td>\n",
       "      <td>2025</td>\n",
       "      <td>St. Francis (PA)</td>\n",
       "    </tr>\n",
       "    <tr>\n",
       "      <th>3</th>\n",
       "      <td>8</td>\n",
       "      <td>South</td>\n",
       "      <td>2025</td>\n",
       "      <td>Louisville</td>\n",
       "    </tr>\n",
       "    <tr>\n",
       "      <th>4</th>\n",
       "      <td>9</td>\n",
       "      <td>South</td>\n",
       "      <td>2025</td>\n",
       "      <td>Creighton</td>\n",
       "    </tr>\n",
       "    <tr>\n",
       "      <th>...</th>\n",
       "      <td>...</td>\n",
       "      <td>...</td>\n",
       "      <td>...</td>\n",
       "      <td>...</td>\n",
       "    </tr>\n",
       "    <tr>\n",
       "      <th>922</th>\n",
       "      <td>14</td>\n",
       "      <td>East</td>\n",
       "      <td>2013</td>\n",
       "      <td>Davidson</td>\n",
       "    </tr>\n",
       "    <tr>\n",
       "      <th>923</th>\n",
       "      <td>7</td>\n",
       "      <td>East</td>\n",
       "      <td>2013</td>\n",
       "      <td>Illinois</td>\n",
       "    </tr>\n",
       "    <tr>\n",
       "      <th>924</th>\n",
       "      <td>10</td>\n",
       "      <td>East</td>\n",
       "      <td>2013</td>\n",
       "      <td>Colorado</td>\n",
       "    </tr>\n",
       "    <tr>\n",
       "      <th>925</th>\n",
       "      <td>2</td>\n",
       "      <td>East</td>\n",
       "      <td>2013</td>\n",
       "      <td>Miami</td>\n",
       "    </tr>\n",
       "    <tr>\n",
       "      <th>926</th>\n",
       "      <td>15</td>\n",
       "      <td>East</td>\n",
       "      <td>2013</td>\n",
       "      <td>Pacific</td>\n",
       "    </tr>\n",
       "  </tbody>\n",
       "</table>\n",
       "<p>815 rows × 4 columns</p>\n",
       "</div>"
      ],
      "text/plain": [
       "     Seed Region  Year              Team\n",
       "0       1  South  2025            Auburn\n",
       "1      16  South  2025     Alabama State\n",
       "2      16  South  2025  St. Francis (PA)\n",
       "3       8  South  2025        Louisville\n",
       "4       9  South  2025         Creighton\n",
       "..    ...    ...   ...               ...\n",
       "922    14   East  2013          Davidson\n",
       "923     7   East  2013          Illinois\n",
       "924    10   East  2013          Colorado\n",
       "925     2   East  2013             Miami\n",
       "926    15   East  2013           Pacific\n",
       "\n",
       "[815 rows x 4 columns]"
      ]
     },
     "execution_count": 18,
     "metadata": {},
     "output_type": "execute_result"
    }
   ],
   "source": [
    "drop = [\"Season\", \"Team Name\"]\n",
    "\n",
    "df3.drop(drop, axis = 1)"
   ]
  },
  {
   "cell_type": "code",
   "execution_count": 19,
   "id": "46494049-3d3e-47b9-afe6-141f2a6e5734",
   "metadata": {
    "tags": []
   },
   "outputs": [],
   "source": [
    "df3.to_csv(\"data/teams_data.csv\")"
   ]
  },
  {
   "cell_type": "code",
   "execution_count": null,
   "id": "7a20c324-c684-47ff-834a-6babd93d235c",
   "metadata": {},
   "outputs": [],
   "source": []
  }
 ],
 "metadata": {
  "kernelspec": {
   "display_name": "Python 3 (ipykernel)",
   "language": "python",
   "name": "python3"
  },
  "language_info": {
   "codemirror_mode": {
    "name": "ipython",
    "version": 3
   },
   "file_extension": ".py",
   "mimetype": "text/x-python",
   "name": "python",
   "nbconvert_exporter": "python",
   "pygments_lexer": "ipython3",
   "version": "3.11.5"
  }
 },
 "nbformat": 4,
 "nbformat_minor": 5
}
