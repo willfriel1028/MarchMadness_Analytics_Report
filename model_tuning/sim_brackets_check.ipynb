{
 "cells": [
  {
   "cell_type": "code",
   "execution_count": 9,
   "id": "827b6ee7-abfa-430e-9a47-b7dd650b2174",
   "metadata": {
    "tags": []
   },
   "outputs": [],
   "source": [
    "import pandas as pd\n",
    "import matplotlib.pyplot as plt\n",
    "import numpy as np"
   ]
  },
  {
   "cell_type": "code",
   "execution_count": 2,
   "id": "b3420d09-1413-4594-9625-431ecdb928f0",
   "metadata": {
    "tags": []
   },
   "outputs": [],
   "source": [
    "df = pd.read_csv(\"data/simulated_bracket.csv\")"
   ]
  },
  {
   "cell_type": "code",
   "execution_count": 4,
   "id": "c06f4119-3e5a-4847-8d3d-c0a1effbeca4",
   "metadata": {
    "tags": []
   },
   "outputs": [],
   "source": [
    "del df[\"Unnamed: 0\"]"
   ]
  },
  {
   "cell_type": "code",
   "execution_count": 5,
   "id": "106c192a-008e-48d9-93d0-bfb29643ac81",
   "metadata": {
    "tags": []
   },
   "outputs": [
    {
     "data": {
      "text/html": [
       "<div>\n",
       "<style scoped>\n",
       "    .dataframe tbody tr th:only-of-type {\n",
       "        vertical-align: middle;\n",
       "    }\n",
       "\n",
       "    .dataframe tbody tr th {\n",
       "        vertical-align: top;\n",
       "    }\n",
       "\n",
       "    .dataframe thead th {\n",
       "        text-align: right;\n",
       "    }\n",
       "</style>\n",
       "<table border=\"1\" class=\"dataframe\">\n",
       "  <thead>\n",
       "    <tr style=\"text-align: right;\">\n",
       "      <th></th>\n",
       "      <th>Year</th>\n",
       "      <th>Team</th>\n",
       "      <th>Seed</th>\n",
       "      <th>Region</th>\n",
       "      <th>Proj_Wins</th>\n",
       "      <th>Wins</th>\n",
       "      <th>Sim_Wins</th>\n",
       "    </tr>\n",
       "  </thead>\n",
       "  <tbody>\n",
       "    <tr>\n",
       "      <th>0</th>\n",
       "      <td>2025</td>\n",
       "      <td>Florida</td>\n",
       "      <td>1</td>\n",
       "      <td>West</td>\n",
       "      <td>2.792968</td>\n",
       "      <td>6</td>\n",
       "      <td>5</td>\n",
       "    </tr>\n",
       "    <tr>\n",
       "      <th>1</th>\n",
       "      <td>2025</td>\n",
       "      <td>Houston</td>\n",
       "      <td>1</td>\n",
       "      <td>Midwest</td>\n",
       "      <td>3.750173</td>\n",
       "      <td>5</td>\n",
       "      <td>4</td>\n",
       "    </tr>\n",
       "    <tr>\n",
       "      <th>2</th>\n",
       "      <td>2025</td>\n",
       "      <td>Duke</td>\n",
       "      <td>1</td>\n",
       "      <td>East</td>\n",
       "      <td>3.805286</td>\n",
       "      <td>4</td>\n",
       "      <td>6</td>\n",
       "    </tr>\n",
       "    <tr>\n",
       "      <th>3</th>\n",
       "      <td>2025</td>\n",
       "      <td>Auburn</td>\n",
       "      <td>1</td>\n",
       "      <td>South</td>\n",
       "      <td>2.388936</td>\n",
       "      <td>4</td>\n",
       "      <td>4</td>\n",
       "    </tr>\n",
       "    <tr>\n",
       "      <th>4</th>\n",
       "      <td>2025</td>\n",
       "      <td>Alabama</td>\n",
       "      <td>2</td>\n",
       "      <td>East</td>\n",
       "      <td>1.765591</td>\n",
       "      <td>3</td>\n",
       "      <td>3</td>\n",
       "    </tr>\n",
       "    <tr>\n",
       "      <th>...</th>\n",
       "      <td>...</td>\n",
       "      <td>...</td>\n",
       "      <td>...</td>\n",
       "      <td>...</td>\n",
       "      <td>...</td>\n",
       "      <td>...</td>\n",
       "      <td>...</td>\n",
       "    </tr>\n",
       "    <tr>\n",
       "      <th>811</th>\n",
       "      <td>2013</td>\n",
       "      <td>New Mexico St.</td>\n",
       "      <td>13</td>\n",
       "      <td>Midwest</td>\n",
       "      <td>0.380072</td>\n",
       "      <td>0</td>\n",
       "      <td>0</td>\n",
       "    </tr>\n",
       "    <tr>\n",
       "      <th>812</th>\n",
       "      <td>2013</td>\n",
       "      <td>Missouri</td>\n",
       "      <td>9</td>\n",
       "      <td>Midwest</td>\n",
       "      <td>1.098171</td>\n",
       "      <td>0</td>\n",
       "      <td>0</td>\n",
       "    </tr>\n",
       "    <tr>\n",
       "      <th>813</th>\n",
       "      <td>2013</td>\n",
       "      <td>Middle Tennessee</td>\n",
       "      <td>11</td>\n",
       "      <td>Midwest</td>\n",
       "      <td>0.547498</td>\n",
       "      <td>0</td>\n",
       "      <td>0</td>\n",
       "    </tr>\n",
       "    <tr>\n",
       "      <th>814</th>\n",
       "      <td>2013</td>\n",
       "      <td>Liberty</td>\n",
       "      <td>16</td>\n",
       "      <td>Midwest</td>\n",
       "      <td>0.048884</td>\n",
       "      <td>0</td>\n",
       "      <td>0</td>\n",
       "    </tr>\n",
       "    <tr>\n",
       "      <th>815</th>\n",
       "      <td>2013</td>\n",
       "      <td>Albany</td>\n",
       "      <td>15</td>\n",
       "      <td>Midwest</td>\n",
       "      <td>0.189008</td>\n",
       "      <td>0</td>\n",
       "      <td>0</td>\n",
       "    </tr>\n",
       "  </tbody>\n",
       "</table>\n",
       "<p>816 rows × 7 columns</p>\n",
       "</div>"
      ],
      "text/plain": [
       "     Year              Team  Seed   Region  Proj_Wins  Wins  Sim_Wins\n",
       "0    2025           Florida     1     West   2.792968     6         5\n",
       "1    2025           Houston     1  Midwest   3.750173     5         4\n",
       "2    2025              Duke     1     East   3.805286     4         6\n",
       "3    2025            Auburn     1    South   2.388936     4         4\n",
       "4    2025           Alabama     2     East   1.765591     3         3\n",
       "..    ...               ...   ...      ...        ...   ...       ...\n",
       "811  2013    New Mexico St.    13  Midwest   0.380072     0         0\n",
       "812  2013          Missouri     9  Midwest   1.098171     0         0\n",
       "813  2013  Middle Tennessee    11  Midwest   0.547498     0         0\n",
       "814  2013           Liberty    16  Midwest   0.048884     0         0\n",
       "815  2013            Albany    15  Midwest   0.189008     0         0\n",
       "\n",
       "[816 rows x 7 columns]"
      ]
     },
     "execution_count": 5,
     "metadata": {},
     "output_type": "execute_result"
    }
   ],
   "source": [
    "df"
   ]
  },
  {
   "cell_type": "code",
   "execution_count": 6,
   "id": "91f33bb0-1678-4763-bba8-3dc3d2d16125",
   "metadata": {
    "tags": []
   },
   "outputs": [],
   "source": [
    "years = [2013, 2014, 2015, 2016, 2017, 2018, 2019, 2021, 2022, 2023, 2024, 2025]"
   ]
  },
  {
   "cell_type": "code",
   "execution_count": 21,
   "id": "26f5ff72-9101-48ff-86ec-1105388f66f4",
   "metadata": {
    "tags": []
   },
   "outputs": [],
   "source": [
    "def bracket_check(df, years):  \n",
    "    \n",
    "    scores = []\n",
    "\n",
    "    for year in years:\n",
    "\n",
    "        score = 0\n",
    "\n",
    "        score = score + (10 * (len(df[(df[\"Year\"] == year) & (df[\"Wins\"] > 0) & (df[\"Sim_Wins\"] > 0)])))\n",
    "        score = score + (20 * (len(df[(df[\"Year\"] == year) & (df[\"Wins\"] > 1) & (df[\"Sim_Wins\"] > 1)])))\n",
    "        score = score + (40 * (len(df[(df[\"Year\"] == year) & (df[\"Wins\"] > 2) & (df[\"Sim_Wins\"] > 2)])))\n",
    "        score = score + (80 * (len(df[(df[\"Year\"] == year) & (df[\"Wins\"] > 3) & (df[\"Sim_Wins\"] > 3)])))\n",
    "        score = score + (160 * (len(df[(df[\"Year\"] == year) & (df[\"Wins\"] > 4) & (df[\"Sim_Wins\"] > 4)])))\n",
    "        score = score + (320 * (len(df[(df[\"Year\"] == year) & (df[\"Wins\"] > 5) & (df[\"Sim_Wins\"] > 5)])))\n",
    "\n",
    "        scores.append(score)\n",
    "\n",
    "    x = np.arange(len(years))\n",
    "\n",
    "    plt.figure(figsize=(12, 5))\n",
    "\n",
    "    plt.bar(x, scores, color='g', label='Score')\n",
    "\n",
    "    plt.xlabel('Year')\n",
    "    plt.ylabel('Score')\n",
    "    plt.xticks(x, years)\n",
    "    for i, score in enumerate(scores):\n",
    "               plt.text(i, score, str(score), ha='center', va='bottom') \n",
    "\n",
    "    plt.show()\n",
    "    \n",
    "    avg = sum(scores) / len(scores)\n",
    "\n",
    "    print(\"Average:\", round(avg, 3))\n",
    "\n"
   ]
  },
  {
   "cell_type": "code",
   "execution_count": 22,
   "id": "417e6ac8-1061-4f17-8219-270a0d824ebf",
   "metadata": {
    "tags": []
   },
   "outputs": [
    {
     "data": {
      "image/png": "[encoded data removed]",
      "text/plain": [
       "<Figure size 1200x500 with 1 Axes>"
      ]
     },
     "metadata": {},
     "output_type": "display_data"
    },
    {
     "name": "stdout",
     "output_type": "stream",
     "text": [
      "Average: 875.833\n"
     ]
    }
   ],
   "source": [
    "bracket_check(df, years)"
   ]
  },
  {
   "cell_type": "code",
   "execution_count": null,
   "id": "3bf6e238-fc20-4853-bf6b-efdb13dbb256",
   "metadata": {},
   "outputs": [],
   "source": []
  }
 ],
 "metadata": {
  "kernelspec": {
   "display_name": "Python 3 (ipykernel)",
   "language": "python",
   "name": "python3"
  },
  "language_info": {
   "codemirror_mode": {
    "name": "ipython",
    "version": 3
   },
   "file_extension": ".py",
   "mimetype": "text/x-python",
   "name": "python",
   "nbconvert_exporter": "python",
   "pygments_lexer": "ipython3",
   "version": "3.11.5"
  }
 },
 "nbformat": 4,
 "nbformat_minor": 5
}
